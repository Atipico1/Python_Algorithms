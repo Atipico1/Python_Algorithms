{
 "cells": [
  {
   "cell_type": "markdown",
   "id": "f00e83b4",
   "metadata": {},
   "source": [
    "#### Linear Search\n",
    "- index \n",
    "- search from First to Last item!"
   ]
  },
  {
   "cell_type": "code",
   "execution_count": 4,
   "id": "e9e64c5a",
   "metadata": {},
   "outputs": [],
   "source": [
    "A = [1, 10, 5, -2 ,50, 100, 37, -17]\n",
    "\n",
    "def linear_search(A:list, B:int) -> int:\n",
    "    for i in range(len(A)):\n",
    "        if A[i] == B:\n",
    "            return i\n",
    "        elif i == len(A) - 1:\n",
    "            return -1"
   ]
  },
  {
   "cell_type": "markdown",
   "id": "c56c42eb",
   "metadata": {},
   "source": [
    "#### Binary Search\n",
    "- For Sorted List!!!\n",
    "- Evaluate mid, removes half!\n",
    "- if start index > end index, return"
   ]
  },
  {
   "cell_type": "code",
   "execution_count": 14,
   "id": "034515ad",
   "metadata": {},
   "outputs": [],
   "source": [
    "A = [-17, -2, 1, 5, 10, 37, 50, 100]\n",
    "\n",
    "def binary_search(A:list, B:int) -> int:\n",
    "    start = 0\n",
    "    end = len(A) -1\n",
    "    \n",
    "    while start != end + 1:\n",
    "        mid = (end + start) // 2\n",
    "        \n",
    "        if A[mid] == B:\n",
    "            return mid\n",
    "        elif A[mid] < B:\n",
    "            start = mid + 1\n",
    "        else:\n",
    "            end = mid - 1\n",
    "    return -1\n",
    "            "
   ]
  },
  {
   "cell_type": "code",
   "execution_count": 16,
   "id": "6a264065",
   "metadata": {},
   "outputs": [
    {
     "data": {
      "text/plain": [
       "-1"
      ]
     },
     "execution_count": 16,
     "metadata": {},
     "output_type": "execute_result"
    }
   ],
   "source": [
    "binary_search(A, 15735)"
   ]
  },
  {
   "cell_type": "code",
   "execution_count": 9,
   "id": "00a7470c",
   "metadata": {},
   "outputs": [],
   "source": [
    "A.sort()"
   ]
  },
  {
   "cell_type": "code",
   "execution_count": 10,
   "id": "710d99f5",
   "metadata": {},
   "outputs": [
    {
     "data": {
      "text/plain": [
       "[-17, -2, 1, 5, 10, 37, 50, 100]"
      ]
     },
     "execution_count": 10,
     "metadata": {},
     "output_type": "execute_result"
    }
   ],
   "source": [
    "A"
   ]
  },
  {
   "cell_type": "code",
   "execution_count": null,
   "id": "3fdd2fbc",
   "metadata": {},
   "outputs": [],
   "source": []
  }
 ],
 "metadata": {
  "kernelspec": {
   "display_name": "Python 3 (ipykernel)",
   "language": "python",
   "name": "python3"
  },
  "language_info": {
   "codemirror_mode": {
    "name": "ipython",
    "version": 3
   },
   "file_extension": ".py",
   "mimetype": "text/x-python",
   "name": "python",
   "nbconvert_exporter": "python",
   "pygments_lexer": "ipython3",
   "version": "3.8.11"
  }
 },
 "nbformat": 4,
 "nbformat_minor": 5
}
